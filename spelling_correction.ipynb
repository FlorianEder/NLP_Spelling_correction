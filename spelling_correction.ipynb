{
 "cells": [
  {
   "cell_type": "markdown",
   "metadata": {
    "collapsed": false,
    "pycharm": {
     "name": "#%% md\n"
    }
   },
   "source": [
    "# Spelling correction\n",
    "## by\n",
    "### Florian Eder    00819174\n",
    "### Moritz Enderle  00819536"
   ]
  },
  {
   "cell_type": "markdown",
   "metadata": {
    "collapsed": false,
    "pycharm": {
     "name": "#%% md\n"
    }
   },
   "source": [
    "#### imports"
   ]
  },
  {
   "cell_type": "code",
   "execution_count": 1,
   "outputs": [],
   "source": [
    "import os\n",
    "import re\n",
    "from collections import Counter"
   ],
   "metadata": {
    "collapsed": false,
    "pycharm": {
     "name": "#%%\n"
    }
   }
  },
  {
   "cell_type": "markdown",
   "source": [
    "#### open txt"
   ],
   "metadata": {
    "collapsed": false,
    "pycharm": {
     "name": "#%% md\n"
    }
   }
  },
  {
   "cell_type": "code",
   "execution_count": 2,
   "outputs": [
    {
     "data": {
      "text/plain": "[('the', 21698),\n ('of', 10500),\n ('a', 9957),\n ('and', 9818),\n ('to', 9438),\n ('in', 6787),\n ('i', 5433),\n ('is', 4951),\n ('it', 4649),\n ('that', 4480)]"
     },
     "execution_count": 2,
     "metadata": {},
     "output_type": "execute_result"
    }
   ],
   "source": [
    "def words(_text):\n",
    "    \"\"\"\n",
    "    Return all words in text\n",
    "    :param _text: text to be parsed\n",
    "    :return: list of words\n",
    "    \"\"\"\n",
    "    return re.findall(r'\\w+', _text.lower())\n",
    "\n",
    "WORDS = Counter()\n",
    "texts = []\n",
    "for file in os.listdir(\"files\"):\n",
    "    if file.endswith(\".txt\"):\n",
    "        with open(\"files/\" + file, \"r\") as f:\n",
    "            text = f.read()\n",
    "            texts.append(text)\n",
    "            WORDS.update(words(text))\n",
    "WORDS.most_common(10)"
   ],
   "metadata": {
    "collapsed": false,
    "pycharm": {
     "name": "#%%\n"
    }
   }
  },
  {
   "cell_type": "markdown",
   "source": [
    "#### given functions"
   ],
   "metadata": {
    "collapsed": false,
    "pycharm": {
     "name": "#%% md\n"
    }
   }
  },
  {
   "cell_type": "code",
   "execution_count": 3,
   "outputs": [],
   "source": [
    "def probability(_word, _no_words=sum(WORDS.values())):\n",
    "    \"\"\"\n",
    "    Probability of `word`\n",
    "    :param _word: word to be probed\n",
    "    :param _no_words: number of words in the counter\n",
    "    :return probability of `word`\n",
    "    \"\"\"\n",
    "    return WORDS[_word] / _no_words\n",
    "\n",
    "\n",
    "def correction_old(_word):\n",
    "    \"\"\"\n",
    "    Most probable spelling correction for word\n",
    "    :param _word: word to be corrected\n",
    "    :return most probable spelling correction for word\n",
    "    \"\"\"\n",
    "    return max(candidates(_word), key=probability)\n",
    "\n",
    "\n",
    "def candidates(_word):\n",
    "    \"\"\"\n",
    "    Generate possible spelling corrections for word\n",
    "    :param _word: word to be corrected\n",
    "    :return: list of possible spelling corrections for word\n",
    "    \"\"\"\n",
    "    return known([_word]) or known(edits1(_word)) or known(edits2(_word)) or [_word]\n",
    "\n",
    "\n",
    "def known(_words):\n",
    "    \"\"\"\n",
    "    The subset of `words` that appear in the dictionary of WORDS\n",
    "    :param _words: list of words to be checked\n",
    "    :return: list of words that appear in the dictionary of WORDS\n",
    "    \"\"\"\n",
    "    return set(w for w in _words if w in WORDS)\n",
    "\n",
    "\n",
    "def edits1(_word):\n",
    "    \"\"\"All edits that are one edit away from `word`\n",
    "    :param _word: word to be corrected\n",
    "    :return: list of possible spelling corrections for word\n",
    "    \"\"\"\n",
    "    letters = 'abcdefghijklmnopqrstuvwxyz'\n",
    "    splits = [(_word[:i], _word[i:]) for i in range(len(_word) + 1)]\n",
    "    deletes = [L + R[1:] for L, R in splits if R]\n",
    "    transposes = [L + R[1] + R[0] + R[2:] for L, R in splits if len(R) > 1]\n",
    "    replaces = [L + c + R[1:] for L, R in splits if R for c in letters]\n",
    "    inserts = [L + c + R for L, R in splits for c in letters]\n",
    "    return set(deletes + transposes + replaces + inserts)\n",
    "\n",
    "\n",
    "def edits2(_word):\n",
    "    \"\"\"\n",
    "    All edits that are two edits away from `word`\n",
    "    :param _word: word to be corrected\n",
    "    :return: list of possible spelling corrections for word\n",
    "    \"\"\"\n",
    "    return (e2 for e1 in edits1(_word) for e2 in edits1(e1))"
   ],
   "metadata": {
    "collapsed": false,
    "pycharm": {
     "name": "#%%\n"
    }
   }
  },
  {
   "cell_type": "markdown",
   "source": [
    "#### improvements\n",
    "#### context approach"
   ],
   "metadata": {
    "collapsed": false,
    "pycharm": {
     "name": "#%% md\n"
    }
   }
  },
  {
   "cell_type": "code",
   "execution_count": 4,
   "outputs": [
    {
     "name": "stdout",
     "output_type": "stream",
     "text": [
      "CPU times: total: 891 ms\n",
      "Wall time: 1.14 s\n"
     ]
    }
   ],
   "source": [
    "%%time\n",
    "CONTEXT = {}\n",
    "for text in texts:\n",
    "    text = text.strip().split()\n",
    "    text = [x.strip().replace('.', '').replace('\"', '').lower() for x in text if x.isalpha()]\n",
    "    for index, word in enumerate(text):\n",
    "        word = word.lower()\n",
    "        if word not in CONTEXT:\n",
    "            CONTEXT[word] = {}\n",
    "        if index > 0:\n",
    "            if text[index - 1] not in CONTEXT[word]:\n",
    "                CONTEXT[word][text[index - 1]] = 0\n",
    "            CONTEXT[word][text[index - 1]] += 1\n"
   ],
   "metadata": {
    "collapsed": false,
    "pycharm": {
     "name": "#%%\n"
    }
   }
  },
  {
   "cell_type": "code",
   "execution_count": 5,
   "outputs": [],
   "source": [
    "def correction_context(_sentence):\n",
    "    \"\"\"\n",
    "    Most probable spelling correction for word\n",
    "    :param _sentence: sentence to be corrected\n",
    "    :return: most probable spelling correction for word\n",
    "    \"\"\"\n",
    "    _words = _sentence.lower().split()\n",
    "    result = \"\"\n",
    "    for i in range(len(_words)):\n",
    "        if i > 0:\n",
    "            _word, _context = _words[i], _words[i - 1]\n",
    "        else:\n",
    "            _word, _context = _words[i], \"\"\n",
    "\n",
    "        if _context == \"\":\n",
    "            result += \" \" + max(candidates(_word), key=probability)\n",
    "        else:\n",
    "            result += \" \" + max(candidates(_word), key=lambda x: probability_context(x, correction_old(_context)))\n",
    "    return result.strip()\n",
    "\n",
    "def probability_context(_word, _context):\n",
    "    \"\"\"\n",
    "    Probability of `word`\n",
    "    :param _word: word to be probed\n",
    "    :param _context: context of the word\n",
    "    :return probability of `word`\n",
    "    \"\"\"\n",
    "    if _word in CONTEXT:\n",
    "        if _context in CONTEXT[_word]:\n",
    "            return CONTEXT[_word][_context] / sum(CONTEXT[_word].values())\n",
    "        else:\n",
    "            return probability(_word)\n",
    "    else:\n",
    "        return 0"
   ],
   "metadata": {
    "collapsed": false,
    "pycharm": {
     "name": "#%%\n"
    }
   }
  },
  {
   "cell_type": "markdown",
   "source": [
    "#### Improvment correction if word is not in list"
   ],
   "metadata": {
    "collapsed": false,
    "pycharm": {
     "name": "#%% md\n"
    }
   }
  },
  {
   "cell_type": "code",
   "execution_count": 6,
   "outputs": [],
   "source": [
    "def endings(_word):\n",
    "    \"\"\"\n",
    "    Generate possible endings for word\n",
    "    :param _word: word to be corrected\n",
    "    :return: list of possible endings for word\n",
    "    \"\"\"\n",
    "    if _word[-5:-1] == 'ilit' and _word[-1] != 'y':\n",
    "        return _word[:-1] + 'y'\n",
    "    elif _word[-5:-1] == 'call' and _word[-1] != 'y':\n",
    "        return _word[:-1] + 'y'\n",
    "    elif _word[-4:-1] == 'ial' and _word[-1] != 'y':\n",
    "        return _word[:-1] + 'y'\n",
    "    elif _word[-4:-1] == 'abl' and _word[-1] != 'e':\n",
    "        return _word[:-1] + 'e'\n",
    "\n",
    "def correction_not_in_list(_word):\n",
    "    \"\"\"\n",
    "    Most probable spelling correction for word\n",
    "    :param _word: word to be corrected\n",
    "    :return: most probable spelling correction for word\n",
    "    \"\"\"\n",
    "    if _word in WORDS:\n",
    "        return _word\n",
    "    elif max(candidates(_word), key=probability) == _word:\n",
    "        return endings(_word)\n",
    "    else:\n",
    "        return max(candidates(_word), key=probability)"
   ],
   "metadata": {
    "collapsed": false,
    "pycharm": {
     "name": "#%%\n"
    }
   }
  },
  {
   "cell_type": "code",
   "execution_count": 7,
   "outputs": [],
   "source": [
    "def correction(_sentence):\n",
    "    \"\"\"\n",
    "    Apply all corrections to sentence.\n",
    "    :param _sentence: sentence to be corrected\n",
    "    :return: most probable spelling correction for word\n",
    "    \"\"\"\n",
    "    return correction_context(\" \".join([correction_not_in_list(x) for x in _sentence.split()]))"
   ],
   "metadata": {
    "collapsed": false,
    "pycharm": {
     "name": "#%%\n"
    }
   }
  },
  {
   "cell_type": "markdown",
   "source": [
    "#### testing"
   ],
   "metadata": {
    "collapsed": false,
    "pycharm": {
     "name": "#%% md\n"
    }
   }
  },
  {
   "cell_type": "code",
   "execution_count": 16,
   "outputs": [
    {
     "name": "stdout",
     "output_type": "stream",
     "text": [
      "the\n",
      "and then\n",
      "but there\n",
      "about their\n",
      "at the\n",
      "transportability\n",
      "transportibility\n",
      "addressable\n",
      "electroencephalographically\n",
      "the quick brown fox jumps over the lazy dog\n"
     ]
    }
   ],
   "source": [
    "print(correction_old(\"ther\"))\n",
    "\n",
    "print(correction_context(\"and ther\"))\n",
    "\n",
    "print(correction_context(\"but ther\"))\n",
    "\n",
    "print(correction_context(\"about ther\"))\n",
    "\n",
    "print(correction_context(\"at ther\"))\n",
    "\n",
    "print(correction_not_in_list(\"transportabilitx\"))\n",
    "\n",
    "print(correction_not_in_list(\"addressablr\"))\n",
    "\n",
    "print(correction_not_in_list(\"electroencephalographicallz\"))\n",
    "\n",
    "print(correction(\"hte quik browwn f9x junpa ovrr ghe lazz dog.\"))"
   ],
   "metadata": {
    "collapsed": false,
    "pycharm": {
     "name": "#%%\n"
    }
   }
  },
  {
   "cell_type": "code",
   "execution_count": 40,
   "metadata": {
    "collapsed": false,
    "pycharm": {
     "name": "#%%\n"
    }
   },
   "outputs": [
    {
     "name": "stdout",
     "output_type": "stream",
     "text": [
      "the\n",
      "then\n",
      "there\n",
      "their\n",
      "the\n",
      "transportability\n",
      "transportibility\n",
      "addressable\n",
      "electroencephalographically\n"
     ]
    }
   ],
   "source": [
    "print(correction(\"ther\"))\n",
    "\n",
    "print(correction_context(\"ther\", \"and\"))\n",
    "\n",
    "print(correction_context(\"ther\", \"but\"))\n",
    "\n",
    "print(correction_context(\"ther\", \"about\"))\n",
    "\n",
    "print(correction_context(\"ther\", \"at\"))\n",
    "\n",
    "print(correction_not_in_list(\"transportabilitx\"))\n",
    "\n",
    "print(correction_not_in_list(\"transportibilitx\"))\n",
    "\n",
    "print(correction_not_in_list(\"addressablr\"))\n",
    "\n",
    "print(correction_not_in_list(\"electroencephalographicallz\"))"
   ]
  }
 ],
 "metadata": {
  "kernelspec": {
   "display_name": "Python 3.9.13 64-bit (windows store)",
   "language": "python",
   "name": "python3"
  },
  "language_info": {
   "codemirror_mode": {
    "name": "ipython",
    "version": 3
   },
   "file_extension": ".py",
   "mimetype": "text/x-python",
   "name": "python",
   "nbconvert_exporter": "python",
   "pygments_lexer": "ipython3",
   "version": "3.9.13"
  },
  "vscode": {
   "interpreter": {
    "hash": "88b8ba14f901ddb4a25a09000b24d3890c997aab80afc79a9bad2863d66ae67a"
   }
  }
 },
 "nbformat": 4,
 "nbformat_minor": 0
}