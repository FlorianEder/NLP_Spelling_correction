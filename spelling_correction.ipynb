{
 "cells": [
  {
   "cell_type": "markdown",
   "source": [
    "# Spelling correction\n",
    "## by\n",
    "### Florian Eder    00819174\n",
    "### Moritz Enderle  00819536"
   ],
   "metadata": {
    "collapsed": false,
    "pycharm": {
     "name": "#%% md\n"
    }
   }
  },
  {
   "cell_type": "markdown",
   "source": [
    "#### imports"
   ],
   "metadata": {
    "collapsed": false,
    "pycharm": {
     "name": "#%% md\n"
    }
   }
  },
  {
   "cell_type": "code",
   "execution_count": null,
   "metadata": {
    "collapsed": true,
    "pycharm": {
     "name": "#%%\n"
    }
   },
   "outputs": [],
   "source": [
    "import re\n",
    "from collections import Counter"
   ]
  },
  {
   "cell_type": "markdown",
   "source": [
    "#### open txt"
   ],
   "metadata": {
    "collapsed": false,
    "pycharm": {
     "name": "#%% md\n"
    }
   }
  },
  {
   "cell_type": "code",
   "execution_count": null,
   "outputs": [],
   "source": [
    "def words(text):\n",
    "    \"\"\"\n",
    "    Return all words in text\n",
    "    :param text: text to be parsed\n",
    "    :return: list of words\n",
    "    \"\"\"\n",
    "    return re.findall(r'\\w+', text.lower())\n",
    "\n",
    "with open('big.txt', encoding=\"utf-8\") as f:\n",
    "    WORDS = Counter(words(f.read()))"
   ],
   "metadata": {
    "collapsed": false,
    "pycharm": {
     "name": "#%%\n"
    }
   }
  },
  {
   "cell_type": "markdown",
   "source": [
    "#### given functions"
   ],
   "metadata": {
    "collapsed": false,
    "pycharm": {
     "name": "#%% md\n"
    }
   }
  },
  {
   "cell_type": "code",
   "execution_count": null,
   "outputs": [],
   "source": [
    "def probability(_word, _no_words=sum(WORDS.values())):\n",
    "    \"\"\"\n",
    "    Probability of `word`\n",
    "    :param _word: word to be probed\n",
    "    :param _no_words: number of words in the counter\n",
    "    :return probability of `word`\n",
    "    \"\"\"\n",
    "    return WORDS[_word] / _no_words\n",
    "\n",
    "\n",
    "def correction(_word):\n",
    "    \"\"\"\n",
    "    Most probable spelling correction for word\n",
    "    :param _word: word to be corrected\n",
    "    :return most probable spelling correction for word\n",
    "    \"\"\"\n",
    "    return max(candidates(_word), key=probability)\n",
    "\n",
    "\n",
    "def candidates(_word):\n",
    "    \"\"\"\n",
    "    Generate possible spelling corrections for word\n",
    "    :param _word: word to be corrected\n",
    "    :return: list of possible spelling corrections for word\n",
    "    \"\"\"\n",
    "    return known([_word]) or known(edits1(_word)) or known(edits2(_word)) or [_word]\n",
    "\n",
    "\n",
    "def known(_words):\n",
    "    \"\"\"\n",
    "    The subset of `words` that appear in the dictionary of WORDS\n",
    "    :param _words: list of words to be checked\n",
    "    :return: list of words that appear in the dictionary of WORDS\n",
    "    \"\"\"\n",
    "    return set(w for w in _words if w in WORDS)\n",
    "\n",
    "\n",
    "def edits1(_word):\n",
    "    \"\"\"All edits that are one edit away from `word`\n",
    "    :param _word: word to be corrected\n",
    "    :return: list of possible spelling corrections for word\n",
    "    \"\"\"\n",
    "    letters = 'abcdefghijklmnopqrstuvwxyz'\n",
    "    splits = [(_word[:i], _word[i:]) for i in range(len(_word) + 1)]\n",
    "    deletes = [L + R[1:] for L, R in splits if R]\n",
    "    transposes = [L + R[1] + R[0] + R[2:] for L, R in splits if len(R) > 1]\n",
    "    replaces = [L + c + R[1:] for L, R in splits if R for c in letters]\n",
    "    inserts = [L + c + R for L, R in splits for c in letters]\n",
    "    return set(deletes + transposes + replaces + inserts)\n",
    "\n",
    "\n",
    "def edits2(_word):\n",
    "    \"\"\"\n",
    "    All edits that are two edits away from `word`\n",
    "    :param _word: word to be corrected\n",
    "    :return: list of possible spelling corrections for word\n",
    "    \"\"\"\n",
    "    return (e2 for e1 in edits1(_word) for e2 in edits1(e1))"
   ],
   "metadata": {
    "collapsed": false,
    "pycharm": {
     "name": "#%%\n"
    }
   }
  },
  {
   "cell_type": "markdown",
   "source": [
    "#### improvements"
   ],
   "metadata": {
    "collapsed": false,
    "pycharm": {
     "name": "#%% md\n"
    }
   }
  }
 ],
 "metadata": {
  "kernelspec": {
   "display_name": "Python 3",
   "language": "python",
   "name": "python3"
  },
  "language_info": {
   "codemirror_mode": {
    "name": "ipython",
    "version": 2
   },
   "file_extension": ".py",
   "mimetype": "text/x-python",
   "name": "python",
   "nbconvert_exporter": "python",
   "pygments_lexer": "ipython2",
   "version": "2.7.6"
  }
 },
 "nbformat": 4,
 "nbformat_minor": 0
}