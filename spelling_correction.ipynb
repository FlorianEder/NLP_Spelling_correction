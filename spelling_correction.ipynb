{
 "cells": [
  {
   "cell_type": "markdown",
   "source": [
    "# Spelling correction\n",
    "## by\n",
    "### Florian Eder    00819174\n",
    "### Moritz Enderle  00819536"
   ],
   "metadata": {
    "collapsed": false,
    "pycharm": {
     "name": "#%% md\n"
    }
   }
  },
  {
   "cell_type": "markdown",
   "source": [
    "#### imports"
   ],
   "metadata": {
    "collapsed": false,
    "pycharm": {
     "name": "#%% md\n"
    }
   }
  },
  {
   "cell_type": "code",
   "execution_count": 1,
   "metadata": {
    "collapsed": true,
    "pycharm": {
     "name": "#%%\n"
    }
   },
   "outputs": [],
   "source": [
    "import re\n",
    "import sys\n",
    "from collections import Counter"
   ]
  },
  {
   "cell_type": "markdown",
   "source": [
    "#### open txt"
   ],
   "metadata": {
    "collapsed": false,
    "pycharm": {
     "name": "#%% md\n"
    }
   }
  },
  {
   "cell_type": "code",
   "execution_count": 2,
   "outputs": [],
   "source": [
    "def words(_text):\n",
    "    \"\"\"\n",
    "    Return all words in text\n",
    "    :param text: text to be parsed\n",
    "    :return: list of words\n",
    "    \"\"\"\n",
    "    return re.findall(r'\\w+', _text.lower())\n",
    "\n",
    "with open('big.txt', encoding=\"utf-8\") as f:\n",
    "    text = f.read()\n",
    "    WORDS = Counter(words(text))"
   ],
   "metadata": {
    "collapsed": false,
    "pycharm": {
     "name": "#%%\n"
    }
   }
  },
  {
   "cell_type": "markdown",
   "source": [
    "#### given functions"
   ],
   "metadata": {
    "collapsed": false,
    "pycharm": {
     "name": "#%% md\n"
    }
   }
  },
  {
   "cell_type": "code",
   "execution_count": 3,
   "outputs": [],
   "source": [
    "def probability(_word, _no_words=sum(WORDS.values())):\n",
    "    \"\"\"\n",
    "    Probability of `word`\n",
    "    :param _word: word to be probed\n",
    "    :param _no_words: number of words in the counter\n",
    "    :return probability of `word`\n",
    "    \"\"\"\n",
    "    return WORDS[_word] / _no_words\n",
    "\n",
    "\n",
    "def correction(_word):\n",
    "    \"\"\"\n",
    "    Most probable spelling correction for word\n",
    "    :param _word: word to be corrected\n",
    "    :return most probable spelling correction for word\n",
    "    \"\"\"\n",
    "    return max(candidates(_word), key=probability)\n",
    "\n",
    "\n",
    "def candidates(_word):\n",
    "    \"\"\"\n",
    "    Generate possible spelling corrections for word\n",
    "    :param _word: word to be corrected\n",
    "    :return: list of possible spelling corrections for word\n",
    "    \"\"\"\n",
    "    return known([_word]) or known(edits1(_word)) or known(edits2(_word)) or [_word]\n",
    "\n",
    "\n",
    "def known(_words):\n",
    "    \"\"\"\n",
    "    The subset of `words` that appear in the dictionary of WORDS\n",
    "    :param _words: list of words to be checked\n",
    "    :return: list of words that appear in the dictionary of WORDS\n",
    "    \"\"\"\n",
    "    return set(w for w in _words if w in WORDS)\n",
    "\n",
    "\n",
    "def edits1(_word):\n",
    "    \"\"\"All edits that are one edit away from `word`\n",
    "    :param _word: word to be corrected\n",
    "    :return: list of possible spelling corrections for word\n",
    "    \"\"\"\n",
    "    letters = 'abcdefghijklmnopqrstuvwxyz'\n",
    "    splits = [(_word[:i], _word[i:]) for i in range(len(_word) + 1)]\n",
    "    deletes = [L + R[1:] for L, R in splits if R]\n",
    "    transposes = [L + R[1] + R[0] + R[2:] for L, R in splits if len(R) > 1]\n",
    "    replaces = [L + c + R[1:] for L, R in splits if R for c in letters]\n",
    "    inserts = [L + c + R for L, R in splits for c in letters]\n",
    "    return set(deletes + transposes + replaces + inserts)\n",
    "\n",
    "\n",
    "def edits2(_word):\n",
    "    \"\"\"\n",
    "    All edits that are two edits away from `word`\n",
    "    :param _word: word to be corrected\n",
    "    :return: list of possible spelling corrections for word\n",
    "    \"\"\"\n",
    "    return (e2 for e1 in edits1(_word) for e2 in edits1(e1))"
   ],
   "metadata": {
    "collapsed": false,
    "pycharm": {
     "name": "#%%\n"
    }
   }
  },
  {
   "cell_type": "markdown",
   "source": [
    "#### improvements\n",
    "#### context approach"
   ],
   "metadata": {
    "collapsed": false,
    "pycharm": {
     "name": "#%% md\n"
    }
   }
  },
  {
   "cell_type": "code",
   "execution_count": 4,
   "outputs": [
    {
     "name": "stdout",
     "output_type": "stream",
     "text": [
      "CPU times: total: 109 ms\n",
      "Wall time: 115 ms\n"
     ]
    }
   ],
   "source": [
    "%%time\n",
    "CONTEXT = {}\n",
    "text = text.strip().split()\n",
    "text = [x.strip().replace(\".\", \"\").lower() for x in text if x.isalpha()]\n",
    "for index, word in enumerate(text):\n",
    "    word = word.lower()\n",
    "    if word not in CONTEXT:\n",
    "        CONTEXT[word] = {}\n",
    "    if index > 0:\n",
    "        if text[index - 1] not in CONTEXT[word]:\n",
    "            CONTEXT[word][text[index - 1]] = 0\n",
    "        CONTEXT[word][text[index - 1]] += 1\n"
   ],
   "metadata": {
    "collapsed": false,
    "pycharm": {
     "name": "#%%\n"
    }
   }
  },
  {
   "cell_type": "code",
   "execution_count": 5,
   "outputs": [],
   "source": [
    "def correction_context(_word, _context):\n",
    "    _word = _word.lower()\n",
    "    \"\"\"\n",
    "    Most probable spelling correction for word\n",
    "    :param _word: word to be corrected\n",
    "    :param _context: context of the word\n",
    "    :return: most probable spelling correction for word\n",
    "    \"\"\"\n",
    "    if _context == \"\":\n",
    "        return max(candidates(_word), key=probability)\n",
    "    else:\n",
    "        return max(candidates(_word), key=lambda x: probability_context(x, _context))\n",
    "\n",
    "\n",
    "def probability_context(_word, _context):\n",
    "    \"\"\"\n",
    "    Probability of `word`\n",
    "    :param _word: word to be probed\n",
    "    :param _context: context of the word\n",
    "    :return probability of `word`\n",
    "    \"\"\"\n",
    "    if _word in CONTEXT and _context in CONTEXT[_word]:\n",
    "        return CONTEXT[_word][_context] / sum(CONTEXT[_word].values())\n",
    "    else:\n",
    "        return 0"
   ],
   "metadata": {
    "collapsed": false,
    "pycharm": {
     "name": "#%%\n"
    }
   }
  },
  {
   "cell_type": "markdown",
   "source": [
    "#### testing"
   ],
   "metadata": {
    "collapsed": false,
    "pycharm": {
     "name": "#%% md\n"
    }
   }
  },
  {
   "cell_type": "code",
   "execution_count": 6,
   "outputs": [
    {
     "name": "stdout",
     "output_type": "stream",
     "text": [
      "{'about': 2,\n",
      " 'after': 2,\n",
      " 'all': 1,\n",
      " 'and': 3,\n",
      " 'as': 2,\n",
      " 'at': 2,\n",
      " 'break': 1,\n",
      " 'buy': 1,\n",
      " 'by': 2,\n",
      " 'closed': 1,\n",
      " 'completed': 1,\n",
      " 'covered': 1,\n",
      " 'digesting': 1,\n",
      " 'do': 2,\n",
      " 'done': 1,\n",
      " 'down': 1,\n",
      " 'find': 1,\n",
      " 'for': 6,\n",
      " 'from': 4,\n",
      " 'half': 1,\n",
      " 'have': 2,\n",
      " 'in': 7,\n",
      " 'into': 2,\n",
      " 'loading': 1,\n",
      " 'made': 1,\n",
      " 'make': 2,\n",
      " 'monotonous': 1,\n",
      " 'of': 11,\n",
      " 'on': 1,\n",
      " 'out': 1,\n",
      " 'over': 1,\n",
      " 'prove': 1,\n",
      " 'put': 1,\n",
      " 'regained': 1,\n",
      " 'send': 1,\n",
      " 'studying': 1,\n",
      " 'supply': 1,\n",
      " 'that': 2,\n",
      " 'the': 1,\n",
      " 'to': 6,\n",
      " 'told': 1,\n",
      " 'upon': 4,\n",
      " 'was': 1,\n",
      " 'what': 1,\n",
      " 'where': 1,\n",
      " 'with': 6,\n",
      " 'within': 1}\n"
     ]
    }
   ],
   "source": [
    "from pprint import pprint\n",
    "\n",
    "pprint(CONTEXT[\"their\"])"
   ],
   "metadata": {
    "collapsed": false,
    "pycharm": {
     "name": "#%%\n"
    }
   }
  },
  {
   "cell_type": "code",
   "execution_count": 7,
   "outputs": [
    {
     "name": "stdout",
     "output_type": "stream",
     "text": [
      "the\n",
      "then\n",
      "there\n",
      "their\n"
     ]
    }
   ],
   "source": [
    "print(correction(\"ther\"))\n",
    "\n",
    "print(correction_context(\"ther\", \"and\"))\n",
    "\n",
    "print(correction_context(\"ther\", \"but\"))\n",
    "\n",
    "print(correction_context(\"ther\", \"about\"))"
   ],
   "metadata": {
    "collapsed": false,
    "pycharm": {
     "name": "#%%\n"
    }
   }
  },
  {
   "cell_type": "code",
   "execution_count": 8,
   "outputs": [
    {
     "name": "stdout",
     "output_type": "stream",
     "text": [
      "Couldn't find program: 'echo'\n"
     ]
    }
   ],
   "source": [
    "%%script echo skipping\n",
    "def spelltest(tests, verbose=False):\n",
    "    \"Run correction(wrong) on all (right, wrong) pairs; report results.\"\n",
    "    import time\n",
    "    start = time.time()\n",
    "    good, unknown = 0, 0\n",
    "    n = len(tests)\n",
    "    for right, wrong in tests:\n",
    "        w = correction(wrong)\n",
    "        good += (w == right)\n",
    "        if w != right:\n",
    "            unknown += (right not in WORDS)\n",
    "            if verbose:\n",
    "                print('correction({}) => {} ({}); expected {} ({})'\n",
    "                      .format(wrong, w, WORDS[w], right, WORDS[right]))\n",
    "    dt = time.time() - start\n",
    "    print('{:.0%} of {} correct ({:.0%} unknown) at {:.0f} words per second '\n",
    "          .format(good / n, n, unknown / n, n / dt))\n",
    "\n",
    "def testset(lines):\n",
    "    \"Parse 'right: wrong1 wrong2' lines into [('right', 'wrong1'), ('right', 'wrong2')] pairs.\"\n",
    "    return [(right, wrong)\n",
    "            for (right, wrongs) in (line.split(':') for line in lines)\n",
    "            for wrong in wrongs.split()]\n",
    "\n",
    "spelltest(testset(open('spell-testset1.txt'))) # Development set\n",
    "spelltest(testset(open('spell-testset2.txt'))) # Final test set"
   ],
   "metadata": {
    "collapsed": false,
    "pycharm": {
     "name": "#%%\n"
    }
   }
  }
 ],
 "metadata": {
  "kernelspec": {
   "display_name": "Python 3",
   "language": "python",
   "name": "python3"
  },
  "language_info": {
   "codemirror_mode": {
    "name": "ipython",
    "version": 2
   },
   "file_extension": ".py",
   "mimetype": "text/x-python",
   "name": "python",
   "nbconvert_exporter": "python",
   "pygments_lexer": "ipython2",
   "version": "2.7.6"
  }
 },
 "nbformat": 4,
 "nbformat_minor": 0
}